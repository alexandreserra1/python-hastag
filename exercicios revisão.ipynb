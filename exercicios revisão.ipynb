{
 "cells": [
  {
   "cell_type": "markdown",
   "metadata": {},
   "source": [
    "# Exercícios Python"
   ]
  },
  {
   "cell_type": "markdown",
   "metadata": {},
   "source": [
    "### Sua empresa resolveu pagar uma bonificação de R$1.000 para todos os funcionários com mais de 20 anos de casa. Quanto vai custar a ação de bonificação para a sua empresa?"
   ]
  },
  {
   "cell_type": "code",
   "execution_count": null,
   "metadata": {},
   "outputs": [],
   "source": [
    "anos_casa_funcionarios = [10, 15, 20, 25, 30, 47, 2, 5, 5, 6, 18, 32, 10, 1, 1, 2, 3, 3, 2, 1, 10, 40, 21, 10, 1, 2, 5, 7, 7, 6, 9, 19]\n",
    "\n",
    "# seu código aqui"
   ]
  },
  {
   "cell_type": "markdown",
   "metadata": {},
   "source": [
    "### Desenvolva um programa que armazene quatro notas em uma lista e que apresente: a média final, a maior nota e a menor nota\n"
   ]
  },
  {
   "cell_type": "code",
   "execution_count": null,
   "metadata": {},
   "outputs": [],
   "source": [
    "# seu código aqui"
   ]
  },
  {
   "cell_type": "markdown",
   "metadata": {},
   "source": [
    "### Desenvolva um programa que armazene quatro notas em uma lista e que apresente a média final. Caso a média seja igual ou superior a 7, apresentar a mensagem \"APROVADO\", caso contrário, armazenar a nota da prova final e recalcular a média (nova média = (antiga média + prova final) / 2). Caso a nova média seja igual superior a 5, apresentar a mensagem \"APROVADO\", caso contrário, apresentar a mensagem \"REPROVADO\""
   ]
  },
  {
   "cell_type": "code",
   "execution_count": null,
   "metadata": {},
   "outputs": [],
   "source": [
    "# seu código aqui"
   ]
  },
  {
   "cell_type": "markdown",
   "metadata": {},
   "source": [
    "### Desenvolva um programa que pergunte para o usuário o nome completo, cpf, endereço e duração do contrato e personalize todo o texto do contrato de acordo com as informações dadas.\n"
   ]
  },
  {
   "cell_type": "code",
   "execution_count": null,
   "metadata": {},
   "outputs": [],
   "source": [
    "texto_contrato = \"\"\"\n",
    "CONTRATO DE PRESTAÇÃO DE SERVIÇOS PROFISSIONAIS\n",
    "\n",
    "\t\tPelo presente instrumento particular de Contrato de Prestação de Serviços Contábeis, de um lado NOME_CONTRATANTE inscrita no CPF, sob nº CPF_CONTRATANTE,doravante denominada CONTRATANTE, residente e domiciliado(a)  à RUA_CONTRATANTE, Cidade CIDADE_CONTRATANTE, Estado ESTADO_CONTRATANTE, e o Contabilista Fulano, com escritório à Qualquer Lugar, Cidade Rio de Janeiro Estado RJ , inscrito no CNPJ Nº 22222222000100, doravante CONTRATADO(A), mediante as cláusulas e condições seguintes, tem justo e “Contratado” o que se segue:\n",
    "\n",
    "CLAUSULA PRIMEIRA - A contratante neste ato, contrata os serviços profissionais do contratado(a) nas seguintes àreas:\n",
    "\t\t\n",
    "1. Escrituração Contábil.\n",
    "1.1 - Classificação da contabilidade de acordo com  normas e princípios contábeis vigentes;\n",
    "1.2 - Emissão de Balancetes:\n",
    "1.3 - Elaboração de Balanço anual e Demonstrativo de Resultado.\n",
    "\t\t\n",
    "E por estarem de comum acordo, assinam o presente instrumento em duas vias, de igual teor e forma, na presença das testemunhas abaixo.\n",
    "\n",
    "\n",
    "DIA_DATA/MES_DATA/ANO_DATA.\n",
    "\n",
    "\n",
    "_________________________________                      __________________________\n",
    "    Contratante - NOME_CONTRATANTE                                     Contratado(a)\n",
    "\n",
    "\n",
    "\"\"\""
   ]
  },
  {
   "cell_type": "code",
   "execution_count": null,
   "metadata": {},
   "outputs": [],
   "source": [
    "# seu código aqui"
   ]
  },
  {
   "cell_type": "markdown",
   "metadata": {},
   "source": [
    "### Crie um programa que converta a temperatura de celsius para Faremheit\n",
    "    - Agora adapte o programa para ele funcionar para uma lista de temperaturas\n",
    "    - Agora adapte o programa para ele conseguir fazer a conversão tanto de C para F quanto de F para C de acordo com a escolha do usuário."
   ]
  },
  {
   "cell_type": "code",
   "execution_count": null,
   "metadata": {},
   "outputs": [],
   "source": [
    "# Parte 1\n",
    "# seu código aqui - Crie um programa que converta a temperatura de celsius para Faremheit\n"
   ]
  },
  {
   "cell_type": "code",
   "execution_count": null,
   "metadata": {},
   "outputs": [],
   "source": [
    "# Parte 2\n",
    "# seu código aqui - Agora adapte o programa para ele funcionar para uma lista de temperaturas"
   ]
  },
  {
   "cell_type": "code",
   "execution_count": null,
   "metadata": {},
   "outputs": [],
   "source": [
    "# Parte 3\n",
    "# seu código aqui - Agora adapte o programa para ele conseguir fazer a conversão tanto de C para F quanto de F para C de acordo com a escolha do usuário."
   ]
  },
  {
   "cell_type": "markdown",
   "metadata": {},
   "source": [
    "### Analisador de Telefone\n",
    "\n",
    "- Crie um programa que receba um telefone e verifique se ele é um telefone real brasileiro. Seu programa deve conseguir tratar espaços em branco, parênteses, existência de um 9º dígito no número ou não, existência de DDD ou não e deve obrigar o usuário a inserir o código do País (+55)\n",
    "\n",
    "Válidos:<br>\n",
    "\"+55 21 9799999999\"<br>\n",
    "\"+55 21 799999999 \"<br>\n",
    "\"+55 (21)79999-9999\"<br>\n",
    "\"+5521799999999\"<br>"
   ]
  },
  {
   "cell_type": "code",
   "execution_count": null,
   "metadata": {},
   "outputs": [],
   "source": [
    "# seu código aqui\n"
   ]
  },
  {
   "cell_type": "markdown",
   "metadata": {},
   "source": [
    "### Analisador de URL\n",
    "    - Seu programa deve pedir um link/URL para o usuário, como por exemplo: https://www.hashtagtreinamentos.com/blog\n",
    "    - Ele deve analisar essa URL dizendo:\n",
    "        - Domínio: hashtagtreinamentos.com\n",
    "        - Protocolo: HTTPS (tudo que vem antes de começar o endereço da URL, no caso antes do :)\n",
    "        - Caminho: /blog (tudo que vem depois do domínio, a partir da primeira / até antes dos parâmetros de busca)\n",
    "        - Parâmetros de busca: (Tudo que vem depois do ? e são separados entre si por um &. Os links podem ter isso ou não)\n",
    "\n",
    "Exemplos de URL:\n",
    "\n",
    "https://www.hashtagtreinamentos.com/blog<br>\n",
    "https://lp.hashtagtreinamentos.com/inscricao-intensivao-de-python-igfb?origemurl=curso&fonte=portal<br>\n",
    "https://lp.hashtagtreinamentos.com/inscricao-intensivao-de-python-igfb?origemurl=exercicios"
   ]
  },
  {
   "cell_type": "code",
   "execution_count": null,
   "metadata": {},
   "outputs": [],
   "source": [
    "# seu código aqui"
   ]
  },
  {
   "cell_type": "markdown",
   "metadata": {},
   "source": [
    "### Crie um programa que dado o e-mail de um usuário, valide se aquele e-mail é válido com as seguintes regras:\n",
    "    - Tem que ter .com ou .gov\n",
    "    - Tem que ter @\n",
    "    - Tem que ter mais de 5 caracteres\n",
    "    - Não pode ter espaço"
   ]
  },
  {
   "cell_type": "code",
   "execution_count": null,
   "metadata": {},
   "outputs": [],
   "source": [
    "# seu código aqui"
   ]
  },
  {
   "cell_type": "markdown",
   "metadata": {},
   "source": [
    "### ToDo List no Terminal\n",
    "\n",
    "Crie um programa para criar uma lista de tarefas para o usuário (mais futuramente no curso, aprenderemos a armazenar essas informações em um banco de dados para essa lista poder ser editada e armazenada)\n",
    "\n",
    "Seu programa deve pedir as tarefas que o usuário tem que fazer em um dia e, a cada inserção de uma nova tarefa, dizer que a tarefa foi adicionada a lista de tarefas. Quando o usuário digitar apenas enter no seu input (sem inserir nenhuma tarefa, seu programa deve printar a quantidade de tarefas para o dia e a lista de tarefas completa)"
   ]
  },
  {
   "cell_type": "code",
   "execution_count": null,
   "metadata": {},
   "outputs": [],
   "source": [
    "# seu código aqui"
   ]
  },
  {
   "cell_type": "markdown",
   "metadata": {},
   "source": [
    "### Conversor de Moedas\n",
    "\n",
    "- Parte 1: Crie um conversor de moedas que pergunte para o usuário qual moeda ele quer converter e para qual moeda destino ele quer converter. Caso alguma das moedas não estejam na lista de conversão, o usuário deve ser informado que essa conversão não é possível. Sendo possível a conversão, o seu conversor de moedas deve em seguida pedir o valor da moeda de origem que ele quer converter para a moeda de destino, fazer a conversão e exibir para o usuário o valor convertido.\n",
    "- Parte 2: Adapte o seu código (crie uma cópia para manter os 2 códigos prontos) para o usuário não precisar dizer qual a moeda original, mas que permita inserir um valor para fazer a conversão com o indicativo da moeda, ex: R$50, US$20 e o sistema fazer a conversão automaticamente."
   ]
  },
  {
   "cell_type": "code",
   "execution_count": null,
   "metadata": {},
   "outputs": [],
   "source": [
    "dic_conversoes = {\n",
    "    \"R$-US$\": 0.194,\n",
    "    \"US$-R$\": 5.15,\n",
    "    \"R$-BTC\":  0.000002857,\n",
    "    \"BTC-R$\": 350000,\n",
    "    \"BTC-US$\": 67961.16,\n",
    "    \"US$-BTC\": 0.000014714\n",
    "}"
   ]
  },
  {
   "cell_type": "code",
   "execution_count": null,
   "metadata": {},
   "outputs": [],
   "source": [
    "# Parte 1\n",
    "# seu código aqui"
   ]
  },
  {
   "cell_type": "code",
   "execution_count": null,
   "metadata": {},
   "outputs": [],
   "source": [
    "# Parte 2\n",
    "# seu código aqui"
   ]
  },
  {
   "cell_type": "markdown",
   "metadata": {},
   "source": [
    "### Você está analisando a conta de energia de um pequeno escritório e precisa saber:\n",
    "1. Qual o valor total da conta de energia em cada mês do ano\n",
    "2. Qual o valor total da conta de energia no ano\n",
    "\n",
    "Considere as listas dadas como os 12 meses do ano, tanto para bandeiras quanto para consumo. O valor da conta é dado por: consumo * multiplicador_bandeira * preco_kwh"
   ]
  },
  {
   "cell_type": "code",
   "execution_count": null,
   "metadata": {},
   "outputs": [],
   "source": [
    "bandeiras_tarifarias = [\"vermelha\", \"vermelha\", \"amarela\", \"amarela\", \"verde\", \"verde\", \"verde\", \"verde\", \"verde\", \"amarela\", \"amarela\", \"amarela\"]\n",
    "consumo_kwh = [400, 350, 325, 350, 200, 220, 250, 290, 360, 290, 300, 300]\n",
    "preco_kwh = 1.3\n",
    "multiplicador = {\"vermelha\": 2, \"amarela\": 1.3, \"verde\": 1}"
   ]
  },
  {
   "cell_type": "code",
   "execution_count": null,
   "metadata": {},
   "outputs": [],
   "source": [
    "# seu código aqui"
   ]
  },
  {
   "cell_type": "markdown",
   "metadata": {},
   "source": [
    "### Você recebeu uma lista de alunos da Arroba Treinamentos e precisa descobrir quantos alunos e quais aluno estão devendo ainda algum pagamento do curso. O curso custa 2.000 reais e os pagamentos dos alunos são representados por uma lista de valores já pagos no dicionário de alunos\n"
   ]
  },
  {
   "cell_type": "code",
   "execution_count": null,
   "metadata": {},
   "outputs": [],
   "source": [
    "pagamentos_alunos = {\n",
    "    \"André\": [2000],\n",
    "    \"Fulano\": [1000, 1000],\n",
    "    \"Ciclano\": [500, 500],\n",
    "    \"Beltrano\": [100], \n",
    "    \"João\": [100, 100, 100, 100, 100, 100, 100, 100, 100, 100, 100],\n",
    "    \"Amanda\": [200, 300, 250, 250, 500, 400, 100],\n",
    "    \"Lira\": [1000],\n",
    "    \"Alon\": [10]\n",
    "}\n"
   ]
  },
  {
   "cell_type": "code",
   "execution_count": 8,
   "metadata": {},
   "outputs": [
    {
     "name": "stdout",
     "output_type": "stream",
     "text": [
      "André pagou o curso inteiro\n",
      "Fulano pagou o curso inteiro\n",
      "Ciclano pagou menos que o curso\n",
      "Beltrano pagou menos que o curso\n",
      "João pagou menos que o curso\n",
      "Amanda pagou o curso inteiro\n",
      "Lira pagou menos que o curso\n",
      "Alon pagou menos que o curso\n"
     ]
    }
   ],
   "source": [
    "pagamentos_alunos = {\n",
    "    \"André\": [2000],\n",
    "    \"Fulano\": [1000, 1000],\n",
    "    \"Ciclano\": [500, 500],\n",
    "    \"Beltrano\": [100], \n",
    "    \"João\": [100, 100, 100, 100, 100, 100, 100, 100, 100, 100, 100],\n",
    "    \"Amanda\": [200, 300, 250, 250, 500, 400, 100],\n",
    "    \"Lira\": [1000],\n",
    "    \"Alon\": [10]\n",
    "}\n",
    "curso = 2000\n",
    "\n",
    "for nome, pagamentos in pagamentos_alunos.items():\n",
    "    valor_total = sum(pagamentos)  # Calcula o valor total pago pelo aluno\n",
    "\n",
    "    if valor_total == curso:\n",
    "        print(f\"{nome} pagou o curso inteiro\")\n",
    "    elif valor_total > curso:\n",
    "        print(f\"{nome} pagou mais que o curso\")\n",
    "    elif valor_total < curso:\n",
    "        print(f\"{nome} pagou menos que o curso\")\n"
   ]
  },
  {
   "cell_type": "markdown",
   "metadata": {},
   "source": [
    "### Password Checker\n",
    "- Pessa para o usuário um input com a senha e um input com a confirmação de senha (aprenderemos no módulo de criação de telas com Python a fazer isso em um sistema bonito, mas para esse exercício faremos com inputs isso)\n",
    "- Para validar a senha, verifique que:\n",
    "    - A senha e confirmação são iguais\n",
    "    - A senha possua mais de 8 caracteres\n",
    "    - A senha tenha letras e números"
   ]
  },
  {
   "cell_type": "code",
   "execution_count": 12,
   "metadata": {},
   "outputs": [
    {
     "name": "stdout",
     "output_type": "stream",
     "text": [
      "Senha válida. Possui 8 caracteres.\n",
      "Senha confirmada com sucesso!\n"
     ]
    }
   ],
   "source": [
    "senha = input(\"Senha\")\n",
    "confirmacao_senha = input(\"Confirmação de Senha\")\n",
    "\n",
    "if senha != confirmacao_senha:\n",
    "    print(\"Senha e Confirmação são diferentes\")\n",
    "else:\n",
    "    if senha.isnumeric() or senha.isalpha():\n",
    "        print(\"Sua senha precisa ter letras e números\")\n",
    "    else:\n",
    "        if len(senha) < 8:\n",
    "            print(\"Sua senha precisa ter pelo menos 8 caracteres\")\n",
    "        else:\n",
    "            print(\"Senha salva com sucesso\")"
   ]
  },
  {
   "cell_type": "markdown",
   "metadata": {},
   "source": [
    "### Você precisa criar a lógica de um sistema de load balance/redirecionamento automático. Seu programa deve receber um input que representa quantas requisições um sistema vai receber. Para cada requisição, seu sistema deve decidir em qual destino atribuir a requisição, destino A, B ou C. A regra de distribuição é: a primeira requisição é atribuída ao destino A, a segunda ao B, a terceira ao C, a quarta ao A, a quinta ao B, a sexta ao C, a sétima ao A, a oitava ao B, a nona ao C… e assim vai até o total de requisições. Ao final do programa, você deve calcular quais requisições foram para cada destino e quantas são. Ex: se o sistema deveria receber 80 requisições, no final seu código tem q dizer: destino A recebeu 27 requisições, destino B recebeu 27 requisições e destino C recebeu 26 requisicoes e a lista de requisições de cada destino: listaA = [1, 4, 7, 10, 13...], listaB = [2, 5, 8, 11, 14, ...], listaC = [3, 6, 9, 12, 15, 18, 21, ...].\n"
   ]
  },
  {
   "cell_type": "code",
   "execution_count": 15,
   "metadata": {},
   "outputs": [
    {
     "name": "stdout",
     "output_type": "stream",
     "text": [
      "Destino A: 12 requisições\n",
      "Destino B: 12 requisições\n",
      "Destino C: 11 requisições\n",
      "[0, 3, 6, 9, 12, 15, 18, 21, 24, 27, 30, 33]\n",
      "[1, 4, 7, 10, 13, 16, 19, 22, 25, 28, 31, 34]\n",
      "[2, 5, 8, 11, 14, 17, 20, 23, 26, 29, 32]\n"
     ]
    }
   ],
   "source": [
    "qtde_requisicoes = int(input(\"Quantas requisições você quer testar?\"))\n",
    "\n",
    "listaA = []\n",
    "listaB = []\n",
    "listaC = []\n",
    "\n",
    "for i in range(qtde_requisicoes):\n",
    "    if i % 3 == 0:\n",
    "        listaA.append(i)\n",
    "    elif i % 3 == 1:\n",
    "        listaB.append(i)\n",
    "    else:\n",
    "        listaC.append(i)\n",
    "\n",
    "print(f\"Destino A: {len(listaA)} requisições\")\n",
    "print(f\"Destino B: {len(listaB)} requisições\")\n",
    "print(f\"Destino C: {len(listaC)} requisições\")\n",
    "\n",
    "print(listaA)\n",
    "print(listaB)\n",
    "print(listaC)\n",
    "\n"
   ]
  },
  {
   "cell_type": "markdown",
   "metadata": {},
   "source": [
    "### ChatBot de Recomendações de Viagens\n",
    "- Você trabalha em uma agência de viagens e precisa criar um chatbot para os seus clientes. Esse chatbot deve pedir para o usuario escolher um mês de viagem. Em seguida, seu chatbot deve perguntar para qual lugar o usuário deseja viajar. Caso o local escolhido pelo usuário esteja na lista de bons lugares para viajar naquele mês, o seu chatbot deve dizer que é um ótimo lugar para viajar nesse mês. Caso o local não esteja na lista de bons locais daquele mês, seu chatbot deve:\n",
    "    1. Dizer para ele quais lugares são bons para viajar nesse mês\n",
    "    2. Verificar no resto dos meses se o local que o usuário quer viajar está em algum outro mês. Se tiver, seu programa deve dizer para ele qual o melhor mês para viajar para o local desejado pelo cliente."
   ]
  },
  {
   "cell_type": "code",
   "execution_count": 18,
   "metadata": {},
   "outputs": [
    {
     "name": "stdout",
     "output_type": "stream",
     "text": [
      "marrocos não é um bom lugar para viajar em jul.\n",
      "Bons lugares para viajar em jul: Brasil, Itália, França, Grécia, Turquia\n",
      "marrocos nao esta na lista de bons lugares para viajar em nenhum mes.\n",
      "marrocos nao esta na lista de bons lugares para viajar em nenhum mes.\n",
      "marrocos nao esta na lista de bons lugares para viajar em nenhum mes.\n",
      "marrocos nao esta na lista de bons lugares para viajar em nenhum mes.\n",
      "marrocos nao esta na lista de bons lugares para viajar em nenhum mes.\n",
      "marrocos nao esta na lista de bons lugares para viajar em nenhum mes.\n",
      "marrocos nao esta na lista de bons lugares para viajar em nenhum mes.\n",
      "marrocos nao esta na lista de bons lugares para viajar em nenhum mes.\n",
      "marrocos nao esta na lista de bons lugares para viajar em nenhum mes.\n",
      "marrocos nao esta na lista de bons lugares para viajar em nenhum mes.\n",
      "marrocos nao esta na lista de bons lugares para viajar em nenhum mes.\n",
      "marrocos nao esta na lista de bons lugares para viajar em nenhum mes.\n"
     ]
    }
   ],
   "source": [
    "# Dicionário de meses e lugares para viajar\n",
    "viagens_mensais = {\n",
    "    \"jan\": [\"Tailândia\", \"Brasil\", \"Antártica\", \"África do Sul\", \"Argentina\"],\n",
    "    \"fev\": [\"Tailândia\", \"Brasil\", \"Argentina\", \"Uruguai\", \"África do Sul\"],\n",
    "    \"mar\": [\"Brasil\", \"Marrocos\", \"EUA\", \"Egito\", \"Dubai\"],\n",
    "    \"abr\": [\"Brasil\", \"Marrocos\", \"Egito\", \"Dubai\", \"Equador\"],\n",
    "    \"mai\": [\"Brasil\", \"EUA\", \"Itália\", \"França\", \"Inglaterra\"],\n",
    "    \"jun\": [\"Brasil\", \"Itália\", \"França\", \"Grécia\", \"Turquia\"],\n",
    "    \"jul\": [\"Brasil\", \"Itália\", \"França\", \"Grécia\", \"Turquia\"],\n",
    "    \"ago\": [\"Brasil\", \"Itália\", \"França\", \"Grécia\", \"Turquia\"],\n",
    "    \"set\": [\"Brasil\", \"Croácia\", \"Grécia\", \"México\", \"Alemanha\"],\n",
    "    \"out\": [\"Brasil\", \"Alemanha\", \"Japão\", \"Chile\", \"Indonésia\"],\n",
    "    \"nov\": [\"Brasil\", \"México\", \"Costa Rica\", \"Barbados\", \"Colômbia\"],\n",
    "    \"dez\": [\"Tailândia\", \"México\", \"Costa Rica\", \"Barbados\", \"Colômbia\"]\n",
    "}\n",
    "\n",
    "# Perguntar ao usuário o mês de viagem\n",
    "mes_viagem = input(\"Qual mês deseja viajar? Digite apenas as 3 primeiras letras do mês\")\n",
    "\n",
    "# Obter a lista de países recomendados para o mês\n",
    "lista_paises = viagens_mensais[mes_viagem]\n",
    "\n",
    "# Perguntar ao usuário o lugar que ele quer viajar\n",
    "lugar_viagem = input(\"Para qual lugar deseja viajar?\")\n",
    "\n",
    "# Verificar se o lugar está na lista de países recomendados para o mês\n",
    "if lugar_viagem in lista_paises:\n",
    "    print(f\"Excelente momento para viajar para {lugar_viagem}! Vamos marcar sua viagem?\")\n",
    "else:\n",
    "    texto_lugares = \", \".join(lista_paises)\n",
    "    print(f\"Hmm, {mes_viagem} não é um mês muito bom para {lugar_viagem}. Recomendamos em {mes_viagem}: {texto_lugares}\")\n",
    "    \n",
    "    # Verificar se o lugar está na lista de outros meses\n",
    "    meses_alternativos = []\n",
    "    for mes in viagens_mensais:\n",
    "        if lugar_viagem in viagens_mensais[mes]:\n",
    "            meses_alternativos.append(mes)\n",
    "    \n",
    "    if len(meses_alternativos) > 0:\n",
    "        texto_meses_alternativos = \", \".join(meses_alternativos)\n",
    "        print(f\"Para viajar para {lugar_viagem} recomendamos viajar em: {texto_meses_alternativos}\")\n"
   ]
  },
  {
   "cell_type": "markdown",
   "metadata": {},
   "source": [
    "### Password Manager com dicionário sendo o Banco de Dados\n",
    "\n",
    "- Seu desafio é criar um gerenciador de senhas (usando um dicionário python como banco de dados, mais para frente no curso no modulo de banco de dados você será capaz de armazenar essas senhas em um banco de dados de forma definitiva e mais protegida)\n",
    "    - Seu programa deve perguntar para o usuário se ele quer cadastrar uma senha nova ou pegar uma senha existente. Independente da operação ele deve usar uma senha mestre: \"uh&g7fnsd8\" para aprovar qualquer consulta/edição no sistema. Se o usuário quiser adicionar uma senha, deve pedir qual o nome do sistema de onde essa senha faz parte, qual o login e qual a senha a ser cadastrada. Se for para consultar, seu programa deve exibir os nomes dos sistemas disponíveis e o usuário pode escolher qual senha quer pedir e seu programa deve dar para ela a resposta de login e senha. Se quiser que as suas senhas cadastradas possam ser usadas para consulta, coloque tudo em um loop infinito e dê algum comando para o usuário conseguir finalizar o processo"
   ]
  },
  {
   "cell_type": "code",
   "execution_count": null,
   "metadata": {},
   "outputs": [],
   "source": [
    "gerenciador_senhas = {\n",
    "    \"Gmail\": (\"lira@emailfalso.com\", \"minhasenha123\"),\n",
    "    \"Github\": (\"pythonimpressionador\", \"senhadoida\"),\n",
    "    \"Cartão de Crédito\": (\"NumeroFalsodoCartao\", \"123456\"),\n",
    "    \"Portal Hashtag\": (\"usuario@gmail.com\", \"123456\")\n",
    "}\n",
    "\n",
    "senha_banco = input(\"Digite a senha mestre para acessar o banco\")\n",
    "if senha_banco != \"uh&g7fnsd8\":\n",
    "    print(\"Senha incorreta, acesso negado.\")\n",
    "else:\n",
    "    acao = input(\"O que você deseja fazer? Cadastrar (digite 1) ou Consultar uma senha (digite 2). Deixe em branco para finalizar\")\n",
    "    while acao != \"\":\n",
    "        if acao == \"1\":\n",
    "            nome_sistema = input(\"Digite o nome do sistema a ser cadastrado\")\n",
    "            login = input(\"Digite o login\")\n",
    "            senha = input(\"Digite a senha\")\n",
    "            gerenciador_senhas[nome_sistema] = (login, senha)\n",
    "            print(f\"Senha salva com sucesso. {nome_sistema}: {gerenciador_senhas[nome_sistema]}\")\n",
    "        elif acao == \"2\":\n",
    "            nomes_sistemas = list(gerenciador_senhas.keys())\n",
    "            texto_nomes_sistemas = \"\\n\".join(gerenciador_senhas)\n",
    "            print(\"Sistemas disponíveis:\")\n",
    "            print(texto_nomes_sistemas)\n",
    "            sistema = input(\"Escolha o sistema que quer consultar a senha. Digite o nome exatamente como aparece acima.\")\n",
    "            usuario, senha = gerenciador_senhas[sistema]\n",
    "            print(\"Usuário {}\".format(usuario))\n",
    "            print(\"Senha {}\".format(senha))\n",
    "        else:\n",
    "            break\n",
    "        acao = input(\"O que você deseja fazer? Cadastrar (digite 1) ou Consultar uma senha (digite 2). Deixe em branco para finalizar\")\n",
    "        \n"
   ]
  },
  {
   "cell_type": "markdown",
   "metadata": {},
   "source": [
    "### Extrator de data em email\n",
    "\n",
    "- Crie um código que consiga extrair a data escrita em um email no formato DIA/MES/ANO. Essa data pode estar com diferentes quantidades de dígitos para cada informação de DIA/MES/ANO. Ex: 01/05/2024 = 1/5/24\n",
    "- Mais para frente no curso vamos aprender regex que facilita esse tipo de extração, por enquanto, para esse exercício pode considerar que apenas 1 data será incluída no email e que não será usado mais a / em outros locais do email"
   ]
  },
  {
   "cell_type": "code",
   "execution_count": null,
   "metadata": {},
   "outputs": [],
   "source": [
    "texto_email = \"\"\"Prezados,\n",
    "Segue em anexo contrato para aprovação e assinatura até o dia 10/12/2025\n",
    "Favor se atentar ao prazo de conclusão para evitar o cancelamento do serviço.\n",
    "Att.,\n",
    "Fulano Beltrano\"\"\""
   ]
  },
  {
   "cell_type": "code",
   "execution_count": 20,
   "metadata": {},
   "outputs": [
    {
     "name": "stdout",
     "output_type": "stream",
     "text": [
      "['10/12/2025']\n"
     ]
    }
   ],
   "source": [
    "import re\n",
    "\n",
    "texto_email = \"\"\"Prezados,\n",
    "Segue em anexo contrato para aprovação e assinatura até o dia 10/12/2025\n",
    "Favor se atentar ao prazo de conclusão para evitar o cancelamento do serviço.\n",
    "Att.,\n",
    "Fulano Beltrano\"\"\"\n",
    "\n",
    "# Expressão regular para encontrar datas nos formatos dd/mm/yyyy ou dd-mm-yyyy\n",
    "regex = r'\\b\\d{2}[/-]\\d{2}[/-]\\d{4}\\b'\n",
    "\n",
    "# Usar a função findall do módulo re para encontrar todas as correspondências\n",
    "datas = re.findall(regex, texto_email)\n",
    "\n",
    "# Printar as datas encontradas\n",
    "print(datas)"
   ]
  },
  {
   "cell_type": "markdown",
   "metadata": {},
   "source": [
    "### Extrator de contato em email\n",
    "\n",
    "- Crie um código que consiga extrair um endereço de e-mail de um texto.\n",
    "- Mais para frente no curso vamos aprender regex que facilita esse tipo de extração, por enquanto, para esse exercício pode considerar que apenas 1 email será incluída no texto e o @ não será usado em outros locais."
   ]
  },
  {
   "cell_type": "code",
   "execution_count": null,
   "metadata": {},
   "outputs": [],
   "source": [
    "texto_email = \"\"\"Prezados,\n",
    "Favor encaminhar documentação para o email qualquercoisa@gmail.com\n",
    "Obrigado\"\"\""
   ]
  },
  {
   "cell_type": "code",
   "execution_count": 31,
   "metadata": {},
   "outputs": [
    {
     "name": "stdout",
     "output_type": "stream",
     "text": [
      "['qualquercoisa@gmail.com']\n"
     ]
    }
   ],
   "source": [
    "import re\n",
    "texto_email = \"\"\"Prezados,\n",
    "Favor encaminhar documentação para o email qualquercoisa@gmail.com\n",
    "Obrigado\"\"\"\n",
    "\n",
    "regex = r'\\b[A-Za-z0-9._%+-]+@[A-Za-z0-9.-]+\\.[A-Z|a-z]{2,7}\\b'\n",
    "datas = re.findall(regex, texto_email)\n",
    "\n",
    "print(datas)"
   ]
  },
  {
   "cell_type": "markdown",
   "metadata": {},
   "source": [
    "### Dado um dicionário com a temperatura em várias cidades, máximas e mínimas estimadas e máximas e mínimas reais, veja em quantas cidades a previsão do tempo acertou e em quantas errou.\n",
    "\n",
    "Considere que a previsão erra se a mínima real for menor do que a mínima estimada OU se a máxima real for maior do que a máxima estimada. Se os valores reais estiverem dentro da faixa estimada, mesmo que os valores não sejam iguais, é considerado que a previsão acertou.\n",
    "\n",
    "Ex: <br>\n",
    "Mínima Estimada: 20, Máxima Estimada: 25, Mínima Real: 21, Máxima Real: 25 -> acertou<br>\n",
    "Mínima Estimada: 20, Máxima Estimada: 25, Mínima Real: 19, Máxima Real: 25 -> errou<br>\n",
    "Mínima Estimada: 20, Máxima Estimada: 25, Mínima Real: 23, Máxima Real: 24 -> acertou<br>\n",
    "Mínima Estimada: 20, Máxima Estimada: 25, Mínima Real: 19, Máxima Real: 28 -> errou<br>\n",
    "\n",
    "formato:\n",
    "(minima_estimada, maxima_estimada, minima_real, maxima_real)"
   ]
  },
  {
   "cell_type": "code",
   "execution_count": null,
   "metadata": {},
   "outputs": [],
   "source": [
    "dic_temperaturas = {\n",
    "    \"São Paulo\": (15, 23, 16, 22),\n",
    "    \"Rio de Janeiro\": (21, 25, 20, 25),\n",
    "    \"Belo Horizonte\": (19, 22, 19, 22),\n",
    "    \"Brasília\": (23, 25, 19, 21),\n",
    "    \"Porto Alegre\": (13, 19, 14, 18),\n",
    "    \"Natal\": (25, 28, 24, 28),\n",
    "    \"Salvador\": (22, 29, 23, 30),\n",
    "    \"Manaus\": (23, 27, 23, 26),\n",
    "}"
   ]
  },
  {
   "cell_type": "code",
   "execution_count": 33,
   "metadata": {},
   "outputs": [
    {
     "name": "stdout",
     "output_type": "stream",
     "text": [
      "Errou em 4 cidades e acertou em 4 cidades\n"
     ]
    }
   ],
   "source": [
    "# seu código aqui\n",
    "dic_temperaturas = {\n",
    "    \"São Paulo\": (15, 23, 16, 22),\n",
    "    \"Rio de Janeiro\": (21, 25, 20, 25),\n",
    "    \"Belo Horizonte\": (19, 22, 19, 22),\n",
    "    \"Brasília\": (23, 25, 19, 21),\n",
    "    \"Porto Alegre\": (13, 19, 14, 18),\n",
    "    \"Natal\": (25, 28, 24, 28),\n",
    "    \"Salvador\": (22, 29, 23, 30),\n",
    "    \"Manaus\": (23, 27, 23, 26),\n",
    "}\n",
    "\n",
    "errou = 0\n",
    "acertou = 0\n",
    "for cidade in dic_temperaturas:\n",
    "    min_estimada, max_estimada, min_real, max_real = dic_temperaturas[cidade]\n",
    "    if min_real < min_estimada or max_real > max_estimada:\n",
    "        errou += 1\n",
    "    else:\n",
    "        acertou += 1\n",
    "print(f\"Errou em {errou} cidades e acertou em {acertou} cidades\")"
   ]
  },
  {
   "cell_type": "markdown",
   "metadata": {},
   "source": [
    "### Você trabalha em uma montadora de veículos com 32 distribuidores e a meta da sua empresa era produzir e entregar 50.000 veículos no ano. Essa meta foi batida, com folga. Seu chefe então se questionou: se a gente tivesse 31 distribuidoras, ainda assim a gente teria batido a meta? E se a gente tivesse 30? E 29?\n",
    "\n",
    "Seu objetivo então é descobrir qual o menor número de distribuidores que teria permitido a sua empresa a ter batido essa meta de 50.000 veiculos produzidos e entregues no ano."
   ]
  },
  {
   "cell_type": "code",
   "execution_count": 35,
   "metadata": {},
   "outputs": [
    {
     "name": "stdout",
     "output_type": "stream",
     "text": [
      "15 seria o menor número possível de distribuidores que permitira bater a meta de 50.000 veículos\n"
     ]
    }
   ],
   "source": [
    "entregas_distribuidores = [5000, 4000, 3900, 3900, 3800, 3200, 3000, 3000, 3000, 3000, 2950, 2950, 2900, 2900, 2900, 2900, 2900, 2900, 2900, 2900, 2900, 2900, 2900, 2900, 2900, 2900, 2900, 2900, 2900, 2900, 2900, 2900]\n",
    "\n",
    "soma_entregas = 0\n",
    "meta = 50000\n",
    "\n",
    "i = 0\n",
    "while soma_entregas < meta:\n",
    "    soma_entregas = soma_entregas + entregas_distribuidores[i]\n",
    "    i = i + 1\n",
    "\n",
    "print(i, \"seria o menor número possível de distribuidores que permitira bater a meta de 50.000 veículos\")"
   ]
  },
  {
   "cell_type": "markdown",
   "metadata": {},
   "source": [
    "### Um dos princípios mais importantes nas empresas é o princípio 80/20. No geral, 20% das ações que uma empresa faz geram 80% dos resultados. Isso tanto para receita, quanto para custos, etc. Você está analisando uma empresa de bebidas. Tendo isso em mente, queremos descobrir quais as linhas de custos que representam 80% do total gasto da empresa. Para isso, calcule quanto percentualmente cada custo representa do custo total da empresa e crie um ranking decrescente baseado nesse percentual "
   ]
  },
  {
   "cell_type": "code",
   "execution_count": 40,
   "metadata": {},
   "outputs": [
    {
     "name": "stdout",
     "output_type": "stream",
     "text": [
      "[(10131.7, 'Custo Mercadorias Vendidas', 0.589370997108902, 0.589370997108902), (2916, 'Logística', 0.1696266004293019, 0.7589975975382038), (1741, 'Despesas Comerciais', 0.10127568976248785, 0.8602732873006917), (1305, 'Despesas administrativas', 0.07591313908101473, 0.9361864263817065), (997, 'Juros e Resultado Financeiro', 0.057996474838139224, 0.9941829012198456), (58, 'Impostos', 0.0033739172924895436, 0.9975568185123352), (28, 'Outros Itens', 0.001628787658443228, 0.9991856061707785), (14, 'Participações em outros Empreendimentos', 0.000814393829221614, 1.0)]\n"
     ]
    }
   ],
   "source": [
    "custos = [\n",
    "    (10131.7, \"Custo Mercadorias Vendidas\"),\n",
    "    (2916, \"Logística\"),\n",
    "    (1741, \"Despesas Comerciais\"),\n",
    "    (1305, \"Despesas administrativas\"),\n",
    "    (28, \"Outros Itens\"),\n",
    "    (997, \"Juros e Resultado Financeiro\"),\n",
    "    (14, \"Participações em outros Empreendimentos\"),\n",
    "    (58, \"Impostos\")\n",
    "]\n",
    "custos.sort(reverse=True)\n",
    "total = sum(item[0] for item in custos)\n",
    "\n",
    "percentual_acumulado = 0\n",
    "for i in range(len(custos)):\n",
    "    valor, descricao = custos[i]\n",
    "    percentual_acumulado += (valor / total)\n",
    "    custos[i] = (valor, descricao, valor / total, percentual_acumulado)\n",
    "\n",
    "print(custos)\n"
   ]
  },
  {
   "cell_type": "code",
   "execution_count": null,
   "metadata": {},
   "outputs": [],
   "source": [
    "# seu código aqui\n"
   ]
  },
  {
   "cell_type": "markdown",
   "metadata": {},
   "source": [
    "### Você trabalha em uma empresa que possui várias franquias. Queremos saber quais as franquias que têm maior número de funcionários e quais dessas, juntas, representam 80% dos funcionários da rede toda."
   ]
  },
  {
   "cell_type": "code",
   "execution_count": 47,
   "metadata": {},
   "outputs": [
    {
     "name": "stdout",
     "output_type": "stream",
     "text": [
      "A loja com maior número de funcionários é Loja A com 25000.\n",
      "O total de funcionários é 25000.\n",
      "O total de funcionários é 35000.\n",
      "O total de funcionários é 35500.\n",
      "O total de funcionários é 60500.\n",
      "O total de funcionários é 61700.\n",
      "O total de funcionários é 62100.\n",
      "O total de funcionários é 62300.\n",
      "O total de funcionários é 62315.\n",
      "O total de funcionários é 62515.\n",
      "O total de funcionários é 62530.\n",
      "O total de funcionários é 62730.\n",
      "O total de funcionários é 62745.\n",
      "O total de funcionários é 62945.\n",
      "O total de funcionários é 62960.\n",
      "Lojas que representam 80% dos funcionários: [(25000, 'Loja A'), (10000, 'Loja B'), (500, 'Loja C'), (25000, 'Loja D')]\n"
     ]
    }
   ],
   "source": [
    "franquias = [\n",
    "    (25000, \"Loja A\"),\n",
    "    (10000, \"Loja B\"),\n",
    "    (500, \"Loja C\"),\n",
    "    (25000, \"Loja D\"),\n",
    "    (1200, \"Loja E\"),\n",
    "    (400, \"Loja F\"),\n",
    "    (200, \"Loja G\"),\n",
    "    (15, \"Loja H\"),\n",
    "    (200, \"Loja I\"),\n",
    "    (15, \"Loja J\"),\n",
    "    (200, \"Loja K\"),\n",
    "    (15, \"Loja L\"),\n",
    "    (200, \"Loja M\"),\n",
    "    (15, \"Loja N\"),\n",
    "]\n",
    "franquias.sort(reverse=True)\n",
    "total_funcionarios = sum(item[0] for item in franquias)\n",
    "\n",
    "percentual_acumulado = 0\n",
    "\n",
    "for i in range(len(franquias)):\n",
    "    qtde_funcionarios, descricao = franquias[i]\n",
    "    percentual_acumulado += qtde_funcionarios / total_funcionarios\n",
    "    franquias[i] = (qtde_funcionarios, descricao, qtde_funcionarios / total_funcionarios, percentual_acumulado)\n",
    "\n",
    "print(franquias)"
   ]
  },
  {
   "cell_type": "code",
   "execution_count": null,
   "metadata": {},
   "outputs": [],
   "source": [
    "# seu código aqui\n"
   ]
  },
  {
   "cell_type": "markdown",
   "metadata": {},
   "source": [
    "### Desafio (esse exercício é mais difícil mesmo)\n",
    "### Com o PIB de 2022 e de 2021 de cada estado brasileiro, descubra: qual o maior PIB, menor PIB, média do PIB, PIB total em cada ano e qual estado mais cresceu o PIB percentualmente e em valores absolutos de um ano pro outro"
   ]
  },
  {
   "cell_type": "code",
   "execution_count": 59,
   "metadata": {},
   "outputs": [
    {
     "name": "stdout",
     "output_type": "stream",
     "text": [
      "2022 Total PIB: 7609598 Média PIB: 281836.962962963\n",
      "2021 Total PIB: 9012144 Média PIB: 333783.1111111111\n",
      "Maior PIB de 2021: 2377639 Estado: São Paulo\n",
      "Maior PIB de 2022: 2719751 Estado: São Paulo\n",
      "menor PIB de 2021: 16024 Estado: Roraima\n",
      "menor PIB de 2022: 18203 Estado: Roraima\n",
      "Maior alta pib Percentual: 0.34591826416075583 Estado: Espírito Santo\n",
      "Maior alta pib absoluto: 342112 Estado: São Paulo\n"
     ]
    }
   ],
   "source": [
    "pib_2022 = {\n",
    "    \"Acre\": 21374,\n",
    "    \"Alagoas\": 76266,\n",
    "    \"Amapá\": 20100,\n",
    "    \"Amazonas\": 131531,\n",
    "    \"Bahia\": 352618,\n",
    "    \"Ceará\": 194885,\n",
    "    \"Distrito Federal\": 286944,\n",
    "    \"Espírito Santo\": 186337,\n",
    "    \"Goiás\": 269628,\n",
    "    \"Maranhão\": 124981,\n",
    "    \"Mato Grosso\": 233390,\n",
    "    \"Mato Grosso do Sul\": 142204,\n",
    "    \"Minas Gerais\": 857593,\n",
    "    \"Paraná\": 549973,\n",
    "    \"Paraíba\": 77470,\n",
    "    \"Pará\": 262905,\n",
    "    \"Pernambuco\": 220814,\n",
    "    \"Piauí\": 64028,\n",
    "    \"Rio de Janeiro\": 949301,\n",
    "    \"Rio Grande do Norte\": 80181,\n",
    "    \"Rio Grande do Sul\": 581284,\n",
    "    \"Rondônia\": 58170,\n",
    "    \"Roraima\": 18203,\n",
    "    \"Santa Catarina\": 428571,\n",
    "    \"Sergipe\": 51861,\n",
    "    \"São Paulo\": 2719751,\n",
    "    \"Tocantins\": 51781\n",
    "}\n",
    "\n",
    "pib_2021 = {\n",
    "    \"Acre\": 16476,\n",
    "    \"Alagoas\": 63202,\n",
    "    \"Amapá\": 18469,\n",
    "    \"Amazonas\": 116019,\n",
    "    \"Bahia\": 305321,\n",
    "    \"Ceará\": 166915,\n",
    "    \"Distrito Federal\": 265847,\n",
    "    \"Espírito Santo\": 138446,\n",
    "    \"Goiás\": 224126,\n",
    "    \"Maranhão\": 106916,\n",
    "    \"Mato Grosso\": 178650,\n",
    "    \"Mato Grosso do Sul\": 122628,\n",
    "    \"Minas Gerais\": 682786, \n",
    "    \"Paraná\": 487931,\n",
    "    \"Paraíba\": 70292,\n",
    "    \"Pará\": 215936,\n",
    "    \"Pernambuco\": 193307,\n",
    "    \"Piauí\": 56391,\n",
    "    \"Rio de Janeiro\": 753824,\n",
    "    \"Rio Grande do Norte\": 71577,\n",
    "    \"Rio Grande do Sul\": 470942, \n",
    "    \"Rondônia\": 51599,\n",
    "    \"Roraima\": 16024,\n",
    "    \"Santa Catarina\": 349275,\n",
    "    \"Sergipe\": 45410,\n",
    "    \"São Paulo\": 2377639,\n",
    "    \"Tocantins\": 43650\n",
    "    }\n",
    "valores_pib21 = list(pib_2021.values())\n",
    "estados_pib21 = list(pib_2021.keys())\n",
    "valores_pib22 = list(pib_2022.values())\n",
    "estados_pib22 = list(pib_2022.keys())\n",
    "\n",
    "\n",
    "total_pib_2022 = sum(valores_pib21)\n",
    "total_pib_2021 = sum(valores_pib22)\n",
    "media_pib_2022 = total_pib_2022 / len(pib_2022)\n",
    "media_pib_2021 = total_pib_2021 / len(pib_2021)\n",
    "print(\"2022\", \"Total PIB:\", total_pib_2022, \"Média PIB:\", media_pib_2022)\n",
    "print(\"2021\", \"Total PIB:\", total_pib_2021, \"Média PIB:\", media_pib_2021)\n",
    "\n",
    "\n",
    "maior_pib2021 = max(valores_pib21)\n",
    "menor_pib2021 = min(valores_pib21)\n",
    "maior_pib2022 = max(valores_pib22)\n",
    "menor_pib2022 = min(valores_pib22)\n",
    "\n",
    "indice_maior_pib21 = valores_pib21.index(maior_pib2021)\n",
    "estado_maiorpib2021 = estados_pib21[indice_maior_pib21]\n",
    "print(\"Maior PIB de 2021:\", maior_pib2021, \"Estado:\", estado_maiorpib2021)\n",
    "\n",
    "indice_maior_pib22 = valores_pib22.index(maior_pib2022)\n",
    "estado_maiorpib2022 = estados_pib22[indice_maior_pib22]\n",
    "print(\"Maior PIB de 2022:\", maior_pib2022, \"Estado:\", estado_maiorpib2022)\n",
    "\n",
    "indice_menor_pib21 = valores_pib21.index(menor_pib2021)\n",
    "estado_menorpib2021 = estados_pib21[indice_menor_pib21]\n",
    "print(\"menor PIB de 2021:\", menor_pib2021, \"Estado:\", estado_menorpib2021)\n",
    "\n",
    "indice_menor_pib22 = valores_pib22.index(menor_pib2022)\n",
    "estado_menorpib2022 = estados_pib22[indice_menor_pib22]\n",
    "print(\"menor PIB de 2022:\", menor_pib2022, \"Estado:\", estado_menorpib2022)\n",
    "\n",
    "maior_alta_pib_perc = 0\n",
    "estado_maioralta_pib_perc = \"\"\n",
    "maior_alta_pib_abs = 0\n",
    "estado_maioralta_pib_abs = \"\"\n",
    "for estado in pib_2021:\n",
    "    pib21_estado = pib_2021[estado]\n",
    "    pib22_estado = pib_2022[estado]\n",
    "    alta_abs = pib22_estado - pib21_estado\n",
    "    percentual_alta = alta_abs / pib21_estado\n",
    "\n",
    "    if alta_abs > maior_alta_pib_abs:\n",
    "        maior_alta_pib_abs = alta_abs\n",
    "        estado_maioralta_pib_abs = estado\n",
    "    \n",
    "    if percentual_alta > maior_alta_pib_perc:\n",
    "        maior_alta_pib_perc = percentual_alta\n",
    "        estado_maioralta_pib_perc = estado\n",
    "\n",
    "\n",
    "print(\"Maior alta pib Percentual:\", maior_alta_pib_perc, \"Estado:\", estado_maioralta_pib_perc)\n",
    "print(\"Maior alta pib absoluto:\", maior_alta_pib_abs, \"Estado:\", estado_maioralta_pib_abs)"
   ]
  },
  {
   "cell_type": "code",
   "execution_count": null,
   "metadata": {},
   "outputs": [],
   "source": [
    "# seu código aqui"
   ]
  },
  {
   "cell_type": "markdown",
   "metadata": {},
   "source": [
    "### Desafio (esse exercício é mais difícil mesmo)\n",
    "### Temos o preço de diferentes ações no início de 2024 e em maio de 2024, queremos:\n",
    "    - Ação que mais subiu, ação que mais caiu no período (percentualmente)\n",
    "    - Se tivessemos 1.000 reais investido em um portfólio com as ações da carteira A vs um portfólio com as ações B, qual teria rendido mais? - considere que os 1.000 reais são investidos de forma proporcional entre cada ativo da carteira"
   ]
  },
  {
   "cell_type": "code",
   "execution_count": null,
   "metadata": {},
   "outputs": [],
   "source": [
    "acoes = {\n",
    "    \"PETR4\": [37.78, 37.01],\n",
    "    \"VALE3\": [77.05, 65.30],\n",
    "    \"ITUB4\": [33.52, 33.74],\n",
    "    \"ABEV3\": [13.71, 11.81],\n",
    "    \"WEGE3\": [36.57, 38.35],\n",
    "    \"BBAS3\": [27.38, 29.41],\n",
    "    \"JBSS3\": [25.17, 29.96],\n",
    "    \"SBSP3\": [73.63, 75.07]\n",
    "}\n",
    "\n",
    "carteiraA = [\"PETR4\", \"VALE3\", \"JBSS3\", \"SBSP3\"]\n",
    "carteiraB = [\"WEGE3\", \"BBAS3\", \"ITUB4\", \"ABEV3\"]"
   ]
  },
  {
   "cell_type": "code",
   "execution_count": null,
   "metadata": {},
   "outputs": [],
   "source": [
    "# seu código aqui - Ação que mais subiu, ação que mais caiu no período (percentualmente)"
   ]
  },
  {
   "cell_type": "code",
   "execution_count": null,
   "metadata": {},
   "outputs": [],
   "source": [
    "# seu código aqui - Se tivessemos 1.000 reais investido em um portfólio com as ações da carteira A vs um portfólio com as ações B, qual teria rendido mais? - considere que os 1.000 reais são investidos de forma proporcional entre cada ativo da carteira"
   ]
  }
 ],
 "metadata": {
  "kernelspec": {
   "display_name": "Python 3 (ipykernel)",
   "language": "python",
   "name": "python3"
  },
  "language_info": {
   "codemirror_mode": {
    "name": "ipython",
    "version": 3
   },
   "file_extension": ".py",
   "mimetype": "text/x-python",
   "name": "python",
   "nbconvert_exporter": "python",
   "pygments_lexer": "ipython3",
   "version": "3.12.3"
  }
 },
 "nbformat": 4,
 "nbformat_minor": 2
}
