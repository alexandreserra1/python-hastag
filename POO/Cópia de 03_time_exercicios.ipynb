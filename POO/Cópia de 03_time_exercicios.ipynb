{
 "cells": [
  {
   "cell_type": "markdown",
   "metadata": {},
   "source": [
    "## Contagem regressiva\n",
    "\n",
    "Um evento especial está programado para começar em 10 segundos. Crie uma contagem regressiva que começa em 10 e vai até 0, com uma pausa de um segundo entre cada número.\n"
   ]
  },
  {
   "cell_type": "code",
   "execution_count": 7,
   "metadata": {},
   "outputs": [
    {
     "name": "stdout",
     "output_type": "stream",
     "text": [
      "Contagem regressiva começando em 10 segundos...\n",
      "BUM!\n",
      "BUM!\n",
      "BUM!\n",
      "BUM!\n",
      "BUM!\n",
      "BUM!\n",
      "BUM!\n",
      "BUM!\n",
      "BUM!\n",
      "BUM!\n",
      "BUM!\n"
     ]
    }
   ],
   "source": [
    "import time\n",
    "print('Contagem regressiva começando em 10 segundos...')\n",
    "\n",
    "for i in range(10,-1, -1):\n",
    "    print(i, end=' \\r')\n",
    "    time.sleep(1)\n",
    "    print('BUM!')"
   ]
  },
  {
   "cell_type": "markdown",
   "metadata": {},
   "source": [
    "## Formatação de tempo\n",
    "\n",
    "Uma empresa quer exibir a data e a hora atual em seu site no formato \"Dia da semana, dia do mês de mês de ano, horas:minutos\". Crie um script Python que mostra a data e a hora atuais neste formato.\n",
    "\n"
   ]
  },
  {
   "cell_type": "code",
   "execution_count": 9,
   "metadata": {},
   "outputs": [
    {
     "name": "stdout",
     "output_type": "stream",
     "text": [
      "Tempo formatado: Thursday, 18/July/2024, 22:18:28\n",
      "Tempo formatado: Quinta Feira, 18/Julho/2024, 22:18:28\n"
     ]
    }
   ],
   "source": [
    "import time\n",
    "import locale\n",
    "\n",
    "tempo_em_struct = time.localtime()\n",
    "\n",
    "tempo_formatado = time.strftime(\"%A, %d/%B/%Y, %H:%M:%S\", tempo_em_struct)\n",
    "print(f\"Tempo formatado: {tempo_formatado}\")\n",
    "\n",
    "locale.setlocale(locale.LC_TIME, 'pt_BR.UTF-8')\n",
    "tempo_formatado = time.strftime(\"%A, %d/%B/%Y, %H:%M:%S\", tempo_em_struct)\n",
    "print(f\"Tempo formatado: {tempo_formatado}\")"
   ]
  }
 ],
 "metadata": {
  "kernelspec": {
   "display_name": "Python 3 (ipykernel)",
   "language": "python",
   "name": "python3"
  },
  "language_info": {
   "codemirror_mode": {
    "name": "ipython",
    "version": 3
   },
   "file_extension": ".py",
   "mimetype": "text/x-python",
   "name": "python",
   "nbconvert_exporter": "python",
   "pygments_lexer": "ipython3",
   "version": "3.12.3"
  }
 },
 "nbformat": 4,
 "nbformat_minor": 4
}
