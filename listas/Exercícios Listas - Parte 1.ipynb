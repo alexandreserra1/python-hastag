{
 "cells": [
  {
   "cell_type": "markdown",
   "metadata": {},
   "source": [
    "# Exercícios\n",
    "\n",
    "## 1. Faturamento do Melhor e do Pior Mês do Ano\n",
    "\n",
    "Qual foi o valor de vendas do melhor mês do Ano?\n",
    "E valor do pior mês do ano?"
   ]
  },
  {
   "cell_type": "code",
   "execution_count": 6,
   "metadata": {},
   "outputs": [
    {
     "name": "stdout",
     "output_type": "stream",
     "text": [
      "O melhor mês de vendas foi nov com o valor de 49051.\n",
      "O pior mês de vendas foi dez com o valor de 9650.\n"
     ]
    }
   ],
   "source": [
    "# Listas de meses e vendas\n",
    "meses = ['jan', 'fev', 'mar', 'abr', 'mai', 'jun', 'jul', 'ago', 'set', 'out', 'nov', 'dez']\n",
    "vendas_1sem = [25000, 29000, 22200, 17750, 15870, 19900]\n",
    "vendas_2sem = [19850, 20120, 17540, 15555, 49051, 9650]\n",
    "\n",
    "# Compilando as vendas\n",
    "vendas_compilado = vendas_1sem + vendas_2sem\n",
    "\n",
    "# Encontrando o maior e o menor valor\n",
    "maior_valor = max(vendas_compilado)\n",
    "menor_valor = min(vendas_compilado)\n",
    "\n",
    "# Encontrando os índices do maior e menor valor\n",
    "indice_maior = vendas_compilado.index(maior_valor)\n",
    "indice_menor = vendas_compilado.index(menor_valor)\n",
    "\n",
    "# Encontrando os meses correspondentes ao maior e menor valor\n",
    "melhor_mes = meses[indice_maior]\n",
    "pior_mes = meses[indice_menor]\n",
    "\n",
    "print(f'O melhor mês de vendas foi {melhor_mes} com o valor de {maior_valor}.')\n",
    "print(f'O pior mês de vendas foi {pior_mes} com o valor de {menor_valor}.')\n"
   ]
  },
  {
   "cell_type": "markdown",
   "metadata": {},
   "source": [
    "## 2. Continuação\n",
    "\n",
    "Agora relacione as duas listas para printar 'O melhor mês do ano foi {} com {} vendas' e o mesmo para o pior mês do ano.\n",
    "\n",
    "Calcule também o faturamento total do Ano e quanto que o melhor mês representou do faturamento total.\n",
    "\n",
    "Obs: Para o faturamento total, pode usar a função sum(lista) que soma todos os itens de uma lista"
   ]
  },
  {
   "cell_type": "code",
   "execution_count": 7,
   "metadata": {},
   "outputs": [
    {
     "name": "stdout",
     "output_type": "stream",
     "text": [
      "O faturamento total do ano foi de R$261486.00.\n",
      "O melhor mês de vendas foi nov com o valor de 49051.\n",
      "O pior mês de vendas foi dez com o valor de 9650.\n"
     ]
    }
   ],
   "source": [
    "# Listas de meses e vendas\n",
    "meses = ['jan', 'fev', 'mar', 'abr', 'mai', 'jun', 'jul', 'ago', 'set', 'out', 'nov', 'dez']\n",
    "vendas_1sem = [25000, 29000, 22200, 17750, 15870, 19900]\n",
    "vendas_2sem = [19850, 20120, 17540, 15555, 49051, 9650]\n",
    "\n",
    "# Compilando as vendas\n",
    "vendas_compilado = vendas_1sem + vendas_2sem\n",
    "\n",
    "# Encontrando o maior e o menor valor\n",
    "maior_valor = max(vendas_compilado)\n",
    "menor_valor = min(vendas_compilado)\n",
    "\n",
    "# Encontrando os índices do maior e menor valor\n",
    "indice_maior = vendas_compilado.index(maior_valor)\n",
    "indice_menor = vendas_compilado.index(menor_valor)\n",
    "\n",
    "# Encontrando os meses correspondentes ao maior e menor valor\n",
    "melhor_mes = meses[indice_maior]\n",
    "pior_mes = meses[indice_menor]\n",
    "\n",
    "#calcula o faturamento total do ano\n",
    "faturamento_total = sum(vendas_compilado)\n",
    "print(f'O faturamento total do ano foi de R${faturamento_total:.2f}.')\n",
    "\n",
    "print(f'O melhor mês de vendas foi {melhor_mes} com o valor de {maior_valor}.')\n",
    "print(f'O pior mês de vendas foi {pior_mes} com o valor de {menor_valor}.')\n"
   ]
  },
  {
   "cell_type": "markdown",
   "metadata": {},
   "source": [
    "## 3. Crie uma lista com o top 3 valores de vendas do ano (sem fazer \"no olho\")\n",
    "\n",
    "Dica: o método remove retira um item da lista."
   ]
  },
  {
   "cell_type": "markdown",
   "metadata": {},
   "source": [
    "# Exercícios\n",
    "\n",
    "## 1. Faturamento do Melhor e do Pior Mês do Ano\n",
    "\n",
    "Qual foi o valor de vendas do melhor mês do Ano?\n",
    "E valor do pior mês do ano?"
   ]
  },
  {
   "cell_type": "markdown",
   "metadata": {},
   "source": [
    "# Exercícios\n",
    "\n",
    "## 1. Faturamento do Melhor e do Pior Mês do Ano\n",
    "\n",
    "Qual foi o valor de vendas do melhor mês do Ano?\n",
    "E valor do pior mês do ano?"
   ]
  },
  {
   "cell_type": "code",
   "execution_count": 2,
   "metadata": {},
   "outputs": [],
   "source": [
    "top3 = []"
   ]
  }
 ],
 "metadata": {
  "kernelspec": {
   "display_name": "Python 3",
   "language": "python",
   "name": "python3"
  },
  "language_info": {
   "codemirror_mode": {
    "name": "ipython",
    "version": 3
   },
   "file_extension": ".py",
   "mimetype": "text/x-python",
   "name": "python",
   "nbconvert_exporter": "python",
   "pygments_lexer": "ipython3",
   "version": "3.12.3"
  }
 },
 "nbformat": 4,
 "nbformat_minor": 4
}
